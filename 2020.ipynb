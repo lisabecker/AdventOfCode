{
 "metadata": {
  "language_info": {
   "codemirror_mode": {
    "name": "ipython",
    "version": 3
   },
   "file_extension": ".py",
   "mimetype": "text/x-python",
   "name": "python",
   "nbconvert_exporter": "python",
   "pygments_lexer": "ipython3",
   "version": "3.8.5-final"
  },
  "orig_nbformat": 2,
  "kernelspec": {
   "name": "python3",
   "display_name": "Python 3"
  }
 },
 "nbformat": 4,
 "nbformat_minor": 2,
 "cells": [
  {
   "cell_type": "code",
   "execution_count": 9,
   "metadata": {},
   "outputs": [
    {
     "output_type": "stream",
     "name": "stdout",
     "text": [
      "691771\n232508760\n"
     ]
    }
   ],
   "source": [
    "# Day 1, Task 1 - find the two entries that sum up to 2020 and then multiply those numbers together\n",
    "from itertools import combinations\n",
    "from functools import reduce\n",
    "input  = open(\"input202001.txt\", \"r\")\n",
    "inputlist = []\n",
    "for row in input:\n",
    "    inputlist.append(int(row))\n",
    "def find_solution(input, dim):\n",
    "    for comb in combinations(input, dim):\n",
    "        if sum(comb) == 2020:\n",
    "            return reduce(lambda x, y: x*y, comb)\n",
    "print(find_solution(inputlist, 2))\n",
    "print(find_solution(inputlist, 3))"
   ]
  }
 ]
}