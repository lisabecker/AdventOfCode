{
 "metadata": {
  "language_info": {
   "codemirror_mode": {
    "name": "ipython",
    "version": 3
   },
   "file_extension": ".py",
   "mimetype": "text/x-python",
   "name": "python",
   "nbconvert_exporter": "python",
   "pygments_lexer": "ipython3",
   "version": "3.8.5-final"
  },
  "orig_nbformat": 2,
  "kernelspec": {
   "name": "python3",
   "display_name": "Python 3"
  }
 },
 "nbformat": 4,
 "nbformat_minor": 2,
 "cells": [
  {
   "cell_type": "code",
   "execution_count": 1,
   "metadata": {},
   "outputs": [
    {
     "output_type": "stream",
     "name": "stdout",
     "text": [
      "Task 1: 691771\nTask 2: 232508760\n"
     ]
    }
   ],
   "source": [
    "# Day 1, Task 1 - find the two entries that sum up to 2020 and then multiply those numbers together\n",
    "from itertools import combinations\n",
    "from functools import reduce\n",
    "input  = open(\"input202001.txt\", \"r\")\n",
    "inputlist = []\n",
    "for row in input:\n",
    "    inputlist.append(int(row))\n",
    "def find_solution(input, dim):\n",
    "    for comb in combinations(input, dim):\n",
    "        if sum(comb) == 2020:\n",
    "            return reduce(lambda x, y: x*y, comb)\n",
    "print(\"Task 1:\", find_solution(inputlist, 2))\n",
    "print(\"Task 2:\", find_solution(inputlist, 3))"
   ]
  },
  {
   "cell_type": "code",
   "execution_count": null,
   "metadata": {},
   "outputs": [],
   "source": [
    "#Day 2\n",
    "with open(\"input202002.txt\", \"r\") as rawinput:\n",
    "    validpwds1 = 0\n",
    "    validpwds2 = 0\n",
    "    input = list(rawinput)\n",
    "    for line in input:\n",
    "        match = 0\n",
    "        password = line.split()\n",
    "        minimum, maximum = [int(x) for x in password[0].split(\"-\")]\n",
    "        character = password[1].split(\":\")[0]\n",
    "        pwd = password[2]\n",
    "        # Task 1:\n",
    "        if minimum <= pwd.count(character) <= maximum:\n",
    "            validpwds1 += 1\n",
    "        # Task 2:\n",
    "        if (pwd[minimum-1] == character) ^ (pwd[maximum-1] == character):\n",
    "            match += 1\n",
    "        if match == 1:\n",
    "            validpwds2 += 1\n",
    "print(\"Task 1:\", validpwds1)\n",
    "print(\"Task 2:\", validpwds2)"
   ]
  }
 ]
}