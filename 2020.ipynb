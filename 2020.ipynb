{
 "metadata": {
  "language_info": {
   "codemirror_mode": {
    "name": "ipython",
    "version": 3
   },
   "file_extension": ".py",
   "mimetype": "text/x-python",
   "name": "python",
   "nbconvert_exporter": "python",
   "pygments_lexer": "ipython3",
   "version": "3.7.6-final"
  },
  "orig_nbformat": 2,
  "kernelspec": {
   "name": "python_defaultSpec_1607064157155",
   "display_name": "Python 3.7.6 64-bit ('base': conda)"
  }
 },
 "nbformat": 4,
 "nbformat_minor": 2,
 "cells": [
  {
   "cell_type": "code",
   "execution_count": 61,
   "metadata": {
    "tags": []
   },
   "outputs": [
    {
     "output_type": "stream",
     "name": "stdout",
     "text": "Task 1: 691771\nTask 2: 232508760\n"
    }
   ],
   "source": [
    "# Day 1, Task 1 - find the two entries that sum up to 2020 and then multiply those numbers together\n",
    "from itertools import combinations\n",
    "from functools import reduce\n",
    "input  = open(\"input202001.txt\", \"r\")\n",
    "inputlist = []\n",
    "for row in input:\n",
    "    inputlist.append(int(row))\n",
    "def find_solution(input, dim):\n",
    "    for comb in combinations(input, dim):\n",
    "        if sum(comb) == 2020:\n",
    "            return reduce(lambda x, y: x*y, comb)\n",
    "print(\"Task 1:\", find_solution(inputlist, 2))\n",
    "print(\"Task 2:\", find_solution(inputlist, 3))"
   ]
  },
  {
   "cell_type": "code",
   "execution_count": 62,
   "metadata": {
    "tags": []
   },
   "outputs": [
    {
     "output_type": "stream",
     "name": "stdout",
     "text": "Task 1: 560\nTask 2: 303\n"
    }
   ],
   "source": [
    "#Day 2\n",
    "with open(\"input202002.txt\", \"r\") as rawinput:\n",
    "    validpwds1 = 0\n",
    "    validpwds2 = 0\n",
    "    input = list(rawinput)\n",
    "    for line in input:\n",
    "        match = 0\n",
    "        password = line.split()\n",
    "        minimum, maximum = [int(x) for x in password[0].split(\"-\")]\n",
    "        character = password[1].split(\":\")[0]\n",
    "        pwd = password[2]\n",
    "        # Task 1:\n",
    "        if minimum <= pwd.count(character) <= maximum:\n",
    "            validpwds1 += 1\n",
    "        # Task 2:\n",
    "        if (pwd[minimum-1] == character) ^ (pwd[maximum-1] == character):\n",
    "            match += 1\n",
    "        if match == 1:\n",
    "            validpwds2 += 1\n",
    "print(\"Task 1:\", validpwds1)\n",
    "print(\"Task 2:\", validpwds2)"
   ]
  },
  {
   "cell_type": "code",
   "execution_count": 63,
   "metadata": {
    "tags": []
   },
   "outputs": [
    {
     "output_type": "stream",
     "name": "stdout",
     "text": "Task 1: 254\nTasl 2: 1666768320\n"
    }
   ],
   "source": [
    "#Day 3\n",
    "with open('input202003.txt', 'r') as rawinput:\n",
    "    Forest = []\n",
    "    for line in rawinput:\n",
    "        Forest.append(line.strip())\n",
    "    trees2 = 1\n",
    "    slopes = [(1,1),(3,1), (5,1), (7,1), (1,2)]\n",
    "    for slope in slopes:\n",
    "        row = 0\n",
    "        column = 0\n",
    "        trees1 = 0\n",
    "        while row < len(Forest):\n",
    "            column += slope[0]\n",
    "            row += slope[1]\n",
    "            if row<(len(Forest)) and Forest[row][column%len(Forest[row])] == '#':\n",
    "                trees1 += 1\n",
    "        trees2 *= trees1\n",
    "        if slope[0] == 3 and slope[1]:\n",
    "            print(\"Task 1:\", trees1)\n",
    "    print(\"Tasl 2:\", trees2)"
   ]
  },
  {
   "cell_type": "code",
   "execution_count": 74,
   "metadata": {
    "tags": [
     "outputPrepend"
    ]
   },
   "outputs": [
    {
     "output_type": "stream",
     "name": "stdout",
     "text": "cid': '320', 'hgt': '171cm', 'hcl': '#888785', 'pid': '540720799', 'ecl': 'amb', 'iyr': '2012', 'byr': '1979'}\npid false\n{'byr': '1921', 'ecl': 'oth', 'pid': '204986110', 'eyr': '2023', 'hgt': '154cm', 'iyr': '2017', 'hcl': '#341e13', 'cid': '126'}\npid false\n{'eyr': '2020', 'cid': '175', 'ecl': 'dne', 'byr': '1983', 'iyr': '2016', 'hcl': '#c0946f', 'hgt': '65cm'}\npid false\npid false\n{'hgt': '191cm', 'iyr': '2010', 'cid': '295', 'byr': '1984', 'eyr': '2025', 'hcl': '#cfa07d', 'pid': '799775698', 'ecl': 'amb'}\npid false\n{'iyr': '2020', 'cid': '278', 'hcl': '#c0946f', 'byr': '1970', 'pid': '773144393', 'eyr': '2024', 'hgt': '180cm'}\npid false\n{'hgt': '176cm', 'byr': '1963', 'pid': '252396293', 'iyr': '2012', 'ecl': 'brn', 'hcl': '#ceb3a1', 'eyr': '2030'}\npid false\n{'pid': '545130492', 'byr': '2030', 'iyr': '2020', 'hgt': '190cm', 'eyr': '2034', 'ecl': 'blu', 'hcl': '#fffffd'}\npid false\n{'hcl': '#a97842', 'pid': '032201787', 'hgt': '190cm', 'ecl': 'gry', 'eyr': '2028', 'iyr': '2012', 'byr': '1994'}\n{'hcl': '#a97842', 'pid': '064591809', 'ecl': 'hzl', 'byr': '1927', 'hgt': '165cm', 'iyr': '2011', 'eyr': '2028'}\n{'cid': '77', 'byr': '2005', 'hgt': '125', 'iyr': '1923', 'ecl': '#605d73', 'eyr': '2022', 'pid': '90184674', 'hcl': 'z'}\npid false\npid false\n{'cid': '301', 'pid': '106820988', 'iyr': '2018', 'hcl': '#cfa07d', 'eyr': '2029', 'byr': '1993', 'hgt': '193cm', 'ecl': 'grn'}\npid false\n{'hcl': '#623a2f', 'cid': '118', 'ecl': 'oth', 'pid': '75827285', 'hgt': '189cm', 'iyr': '2010', 'eyr': '2030', 'byr': '1976'}\npid false\npid false\n{'ecl': 'blu', 'iyr': '2023', 'eyr': '1996', 'hgt': '66cm', 'cid': '251', 'byr': '1972', 'hcl': 'z', 'pid': '557774244'}\npid false\n{'byr': '2002', 'hgt': '169cm', 'pid': '629420566', 'eyr': '2026', 'ecl': 'grn', 'hcl': '#341e13', 'cid': '166', 'iyr': '2019'}\npid false\n{'iyr': '2026', 'hcl': '9b83a1', 'eyr': '1979', 'ecl': 'dne', 'hgt': '111', 'pid': '176cm'}\npid false\npid false\n{'pid': '#89718c', 'byr': '2026', 'hcl': '2ca5c7', 'hgt': '142', 'eyr': '2040', 'ecl': 'lzr', 'iyr': '2029'}\npid false\npid false\n{'ecl': 'grn', 'byr': '2022', 'eyr': '2020', 'pid': '7024869', 'hgt': '123', 'iyr': '2019', 'hcl': 'z'}\npid false\npid false\n{'hcl': '#733820', 'hgt': '155cm', 'ecl': 'grn', 'iyr': '2020', 'byr': '1955', 'eyr': '2028', 'pid': '217362007'}\npid false\n{'hcl': '#18171d', 'ecl': 'gry', 'byr': '1971', 'hgt': '193cm', 'eyr': '2020', 'pid': '352009857', 'iyr': '2013'}\npid false\n{'byr': '2018', 'hgt': '175in', 'ecl': 'xry', 'iyr': '2015', 'eyr': '2036', 'cid': '171', 'pid': '6132398', 'hcl': '#efcc98'}\npid false\npid false\n{'pid': '839955293', 'byr': '1928', 'hcl': '#fffffd', 'ecl': 'hzl', 'iyr': '2011', 'hgt': '162cm', 'eyr': '2023'}\npid false\n{'hgt': '175cm', 'pid': '482827478', 'eyr': '2028', 'hcl': '#6b5442', 'ecl': 'blu', 'byr': '1932', 'iyr': '2010'}\npid false\n{'iyr': '2020', 'hcl': '#866857', 'ecl': 'brn', 'byr': '1933', 'cid': '269', 'pid': '003931873', 'hgt': '188cm', 'eyr': '2022'}\n{'byr': '1981', 'hcl': '#fffffd', 'hgt': '160cm', 'cid': '311', 'ecl': 'brn', 'eyr': '2025', 'pid': '930857758', 'iyr': '2014'}\npid false\n{'hcl': '#cfa07d', 'hgt': '73in', 'ecl': 'gry', 'pid': '383281251', 'iyr': '2013', 'byr': '1934', 'eyr': '2026'}\npid false\n{'byr': '1988', 'eyr': '2026', 'pid': '458002476', 'iyr': '2017', 'hgt': '175cm', 'ecl': 'amb'}\npid false\n{'eyr': '1987', 'byr': '2020', 'pid': '299341304', 'hcl': '#341e13', 'iyr': '1935', 'cid': '125', 'hgt': '168cm', 'ecl': 'gry'}\npid false\n{'iyr': '2014', 'hcl': '#b6652a', 'pid': '445799347', 'hgt': '188cm', 'byr': '1960', 'eyr': '2030', 'cid': '290', 'ecl': 'amb'}\npid false\n{'eyr': '2023', 'hgt': '75cm', 'hcl': '#733820', 'cid': '195', 'byr': '1933', 'ecl': 'amb', 'pid': '062770586', 'iyr': '2019'}\n{'hgt': '168cm', 'eyr': '2021', 'pid': '725299968', 'ecl': 'grn', 'byr': '1932', 'iyr': '2016', 'hcl': '#888785'}\npid false\n{'hgt': '161cm', 'hcl': '#ceb3a1', 'byr': '1962', 'eyr': '2026', 'iyr': '2013', 'ecl': 'amb', 'pid': '695426469', 'cid': '227'}\npid false\n{'ecl': 'dne', 'hcl': '#ceb3a1', 'iyr': '2013', 'eyr': '2022', 'pid': '434786988', 'byr': '1956', 'hgt': '183cm'}\npid false\n{'pid': '697500517', 'byr': '1968', 'hgt': '169cm', 'hcl': '#fffffd', 'ecl': 'grn', 'cid': '143', 'iyr': '2010', 'eyr': '2027'}\npid false\n{'byr': '2029', 'ecl': 'amb', 'hgt': '175in', 'iyr': '2015', 'hcl': '#ceb3a1', 'pid': '39839448', 'eyr': '2021', 'cid': '105'}\npid false\npid false\n{'pid': '0985607981', 'ecl': 'hzl', 'iyr': '2012', 'eyr': '2021', 'byr': '2024', 'hcl': '5cad22', 'hgt': '190cm'}\npid false\n{'hcl': '#b6652a', 'hgt': '178cm', 'cid': '222', 'byr': '1992', 'ecl': 'grn', 'iyr': '2011', 'pid': '419544742'}\npid false\n{'iyr': '2019', 'byr': '1960', 'ecl': 'hzl', 'eyr': '2021', 'hgt': '184cm', 'cid': '66', 'hcl': '#866857', 'pid': '412920622'}\npid false\n{'eyr': '2025', 'hcl': '#888785', 'iyr': '2018', 'byr': '1956', 'pid': '698098389', 'ecl': 'grn', 'hgt': '173cm'}\npid false\n{'ecl': 'blu', 'byr': '1935', 'pid': '354892542', 'hgt': '161cm', 'iyr': '2018', 'eyr': '2021', 'hcl': '#b6652a'}\npid false\n{'ecl': 'oth', 'cid': '287', 'iyr': '2028', 'byr': '1953', 'eyr': '2027', 'hcl': '#7d3b0c', 'hgt': '151cm', 'pid': '211411839'}\npid false\n{'iyr': '2018', 'byr': '1934', 'hcl': '#a97842', 'pid': '859748861', 'ecl': 'oth', 'hgt': '175cm', 'eyr': '2025'}\npid false\n{'byr': '1930', 'iyr': '2018', 'eyr': '2022', 'hgt': '175cm', 'hcl': '#292092', 'ecl': 'brn', 'pid': '987163365'}\npid false\n{'hgt': '167in', 'hcl': '#888785', 'eyr': '2040', 'pid': '4646402867', 'byr': '2013', 'iyr': '1941', 'ecl': '#389aec'}\npid false\npid false\n{'ecl': 'hzl', 'hcl': '#602927', 'hgt': '168cm', 'eyr': '2026', 'cid': '235', 'iyr': '2016', 'byr': '1942'}\npid false\npid false\n{'iyr': '1975', 'pid': '11337832', 'ecl': '#a25273', 'hgt': '151', 'byr': '2017'}\npid false\npid false\n{'eyr': '1979', 'hgt': '71cm', 'byr': '2003', 'hcl': '7e7da7', 'pid': '151cm', 'ecl': '#a8afb3', 'iyr': '1937'}\npid false\npid false\n{'eyr': '2021', 'hgt': '74in', 'hcl': '#cfa07d', 'iyr': '2014', 'byr': '1932', 'pid': '641867677', 'ecl': 'grn'}\npid false\n{'ecl': 'gry', 'hgt': '185cm', 'pid': '556229206', 'iyr': '2013', 'byr': '1984', 'hcl': '#fffffd', 'eyr': '2028'}\npid false\n{'eyr': '2020', 'byr': '1989', 'ecl': 'grn', 'pid': '618876158', 'hcl': 'z', 'hgt': '176cm', 'iyr': '2025'}\npid false\n{'eyr': '2025', 'byr': '2001', 'hcl': '#cdb7f9', 'pid': '377402126', 'ecl': 'hzl', 'hgt': '184cm', 'iyr': '2019'}\npid false\n{'byr': '1939', 'hgt': '180cm', 'eyr': '2029', 'ecl': 'oth', 'hcl': '#733820', 'iyr': '2016', 'pid': '733456875'}\npid false\n{'pid': '883743276', 'hcl': '#7d3b0c', 'eyr': '2022', 'ecl': 'blu', 'byr': '1928', 'hgt': '150cm', 'cid': '150', 'iyr': '2013'}\npid false\n{'hgt': '60cm', 'ecl': '#43f03d', 'eyr': '1994', 'byr': '1975', 'iyr': '1980', 'pid': '169cm'}\npid false\npid false\n{'hgt': '104', 'byr': '2029', 'eyr': '2040', 'hcl': '64a9b2', 'pid': '83898860', 'iyr': '1990', 'ecl': '#938bbe'}\npid false\npid false\n{'pid': '284399238', 'ecl': 'gry', 'hcl': '#888785', 'iyr': '2019', 'hgt': '168cm', 'byr': '1944', 'eyr': '2022'}\npid false\n{'hcl': '#733820', 'pid': '486515752', 'ecl': 'grn', 'hgt': '188in', 'byr': '1941', 'iyr': '2017', 'eyr': '2005'}\npid false\n{'iyr': '2010', 'byr': '1978', 'hgt': '160cm', 'eyr': '2003', 'ecl': 'oth', 'hcl': '#efcc98', 'pid': '584668011'}\npid false\n{'byr': '1944', 'ecl': 'gry', 'pid': '962700562', 'iyr': '2011', 'hcl': '#866857', 'eyr': '2022', 'hgt': '191cm'}\npid false\n{'hcl': 'z', 'pid': '758583213', 'iyr': '1941', 'ecl': 'gry', 'eyr': '2007', 'hgt': '67', 'byr': '2022', 'cid': '215'}\npid false\n{'byr': '1988', 'ecl': '#ae2a9b', 'hcl': '#fe9d14', 'iyr': '2012', 'pid': '411550516', 'hgt': '169cm', 'eyr': '2038'}\npid false\n{'pid': '400034647', 'byr': '1927', 'hgt': '165cm', 'iyr': '2017', 'ecl': 'brn', 'eyr': '2024', 'cid': '144', 'hcl': '#341e13'}\npid false\n{'hcl': '#733820', 'hgt': '153cm', 'eyr': '2027', 'byr': '1935', 'pid': '217121064', 'cid': '120', 'iyr': '2012', 'ecl': 'grn'}\npid false\n{'hgt': '168cm', 'hcl': '#866857', 'iyr': '2012', 'pid': '1527348755', 'byr': '1946', 'eyr': '2028', 'cid': '184', 'ecl': 'amb'}\npid false\npid false\n{'hcl': '#a97842', 'byr': '1967', 'hgt': '152cm', 'eyr': '2030', 'ecl': 'blu', 'pid': '929661915', 'iyr': '2018'}\npid false\n{'pid': '671485026', 'hgt': '188cm', 'byr': '1974', 'iyr': '2015', 'ecl': 'grn', 'cid': '268', 'eyr': '2021', 'hcl': '#c0946f'}\npid false\n{'pid': '789877199', 'iyr': '2011', 'cid': '219', 'eyr': '2029', 'ecl': 'oth', 'byr': '1991', 'hcl': '#866857', 'hgt': '154cm'}\npid false\n{'cid': '137', 'pid': '059579902', 'eyr': '2020', 'byr': '1952', 'hcl': '#18171d', 'iyr': '2020', 'hgt': '172cm', 'ecl': 'oth'}\n{'pid': '182cm', 'iyr': '1997', 'byr': '2012', 'eyr': '2034', 'hgt': '161in', 'ecl': '#528abf', 'hcl': 'b7d2fe'}\npid false\npid false\n{'hgt': '192cm', 'ecl': 'oth', 'iyr': '2017', 'pid': '264538307', 'byr': '1994', 'cid': '285', 'hcl': '#18171d', 'eyr': '2030'}\npid false\n{'hcl': '#efcc98', 'pid': '38036608', 'eyr': '2010', 'iyr': '2026', 'byr': '2027', 'cid': '239', 'ecl': 'zzz', 'hgt': '74'}\npid false\npid false\n{'iyr': '2012', 'eyr': '2022', 'hgt': '178cm', 'hcl': '#888785', 'ecl': 'hzl', 'byr': '1998', 'pid': '000080585'}\n{'pid': '719620152', 'hcl': '#b6652a', 'cid': '133', 'ecl': 'hzl', 'byr': '1983', 'iyr': '2012', 'hgt': '175cm', 'eyr': '2024'}\npid false\n{'cid': '155', 'eyr': '1977', 'iyr': '2019', 'ecl': '#28de8b', 'byr': '1941', 'hcl': '#602927', 'hgt': '173cm', 'pid': '493773064'}\npid false\n{'iyr': '2010', 'pid': '842124616', 'ecl': 'hzl', 'eyr': '2025', 'cid': '146', 'hcl': '#733820', 'hgt': '166cm', 'byr': '1987'}\npid false\n{'hcl': 'fd4dcf', 'byr': '2006', 'iyr': '2011', 'pid': '820797708', 'eyr': '2020', 'hgt': '189cm', 'ecl': 'gry'}\npid false\n{'iyr': '1971', 'pid': '22107293', 'hcl': '#5b3f01', 'cid': '257', 'ecl': 'hzl', 'hgt': '60cm', 'eyr': '2000', 'byr': '1965'}\npid false\npid false\n{'byr': '1932', 'eyr': '2028', 'hcl': '#6b5442', 'ecl': 'amb', 'pid': '947149686', 'iyr': '2015', 'hgt': '187cm'}\npid false\n{'hcl': '#a97842', 'cid': '260', 'hgt': '167cm', 'eyr': '2027', 'byr': '1973', 'ecl': 'oth', 'pid': '741678753', 'iyr': '2016'}\npid false\n{'pid': '334234443', 'ecl': 'gry', 'hcl': '#18171d', 'eyr': '2020', 'iyr': '2016', 'hgt': '159cm', 'byr': '1926'}\npid false\n{'hgt': '118', 'eyr': '1929', 'iyr': '2013', 'pid': '987139064', 'cid': '196', 'hcl': '#cfa07d', 'ecl': '#f72601', 'byr': '1929'}\npid false\n{'byr': '1924', 'pid': '623185744', 'iyr': '2012', 'cid': '341', 'hcl': '#602927', 'hgt': '192cm', 'eyr': '2022'}\npid false\n{'iyr': '2012', 'byr': '1971', 'hgt': '168cm', 'cid': '146', 'pid': '673038025', 'hcl': '#866857', 'eyr': '2020', 'ecl': 'hzl'}\npid false\n{'eyr': '2023', 'iyr': '2017', 'pid': '205596613', 'cid': '298', 'hcl': '#341e13', 'hgt': '169cm', 'ecl': 'oth', 'byr': '1996'}\npid false\n{'ecl': 'blu', 'pid': '775831730', 'eyr': '2029', 'iyr': '1924', 'hgt': '168cm', 'hcl': 'z'}\npid false\n{'byr': '2023', 'hgt': '181cm', 'pid': '4365105095', 'iyr': '2021', 'ecl': 'lzr', 'eyr': '2024', 'hcl': 'z'}\npid false\npid false\n{'hgt': '184cm', 'byr': '1987', 'pid': '175cm', 'ecl': '#83a5fa', 'eyr': '2023'}\npid false\npid false\n{'eyr': '2021', 'pid': '422371422', 'ecl': 'oth', 'iyr': '2015', 'hcl': '#866857', 'byr': '1963', 'hgt': '174cm'}\npid false\n{'pid': '006970943', 'hcl': '#2f22ef', 'iyr': '2020', 'ecl': 'gry', 'byr': '1922', 'eyr': '2024', 'hgt': '163cm'}\n{'cid': '160', 'byr': '2015', 'eyr': '2038', 'hcl': 'z', 'ecl': 'grt', 'hgt': '166', 'iyr': '2026', 'pid': '#14978f'}\npid false\npid false\n{'hgt': '178cm', 'eyr': '2021', 'iyr': '2016', 'pid': '471529794', 'hcl': '#b6652a', 'cid': '192', 'ecl': 'grn', 'byr': '1970'}\npid false\n{'iyr': '2015', 'ecl': 'brn', 'hcl': '#602927', 'hgt': '187cm', 'pid': '729284172', 'eyr': '2024', 'byr': '1932'}\npid false\n{'cid': '153', 'ecl': 'dne', 'eyr': '2005', 'pid': '178cm', 'iyr': '2028', 'byr': '2029', 'hgt': '160in', 'hcl': '482a92'}\npid false\npid false\n{'byr': '1995', 'iyr': '2012', 'hcl': '#866857', 'hgt': '159cm', 'eyr': '1950', 'ecl': 'gry', 'pid': '183cm'}\npid false\npid false\n{'pid': '875885919', 'hgt': '159cm', 'iyr': '2011', 'ecl': 'gry', 'byr': '1988', 'hcl': '#341e13', 'eyr': '2028'}\npid false\n{'pid': '2390267705', 'hcl': '#7d3b0c', 'byr': '2009', 'eyr': '2017', 'ecl': 'grn', 'hgt': '183cm', 'iyr': '2015'}\npid false\npid false\n{'ecl': 'brn', 'eyr': '2029', 'hcl': '#866857', 'iyr': '2020', 'hgt': '180cm', 'byr': '2001', 'pid': '668021168'}\npid false\n{'hcl': '#c0946f', 'eyr': '2024', 'ecl': 'amb', 'pid': '013487714', 'byr': '1965', 'hgt': '172cm', 'cid': '320', 'iyr': '2020'}\n{'eyr': '2025', 'pid': '115479767', 'hcl': '#866857', 'ecl': 'oth', 'hgt': '163cm', 'iyr': '2010', 'byr': '1999'}\npid false\n{'byr': '1967', 'iyr': '2011', 'cid': '112', 'hcl': '#733820', 'eyr': '2040', 'ecl': 'grt', 'hgt': '66', 'pid': '804536366'}\npid false\n{'hgt': '163', 'pid': '1764836278', 'eyr': '2035', 'iyr': '2021', 'hcl': 'z', 'ecl': '#f1bb27'}\npid false\npid false\n{'hcl': '#efcc98', 'hgt': '176cm', 'byr': '1994', 'pid': '590539278', 'ecl': 'grn', 'iyr': '2011', 'eyr': '2021'}\npid false\n{'iyr': '2017', 'eyr': '2024', 'hgt': '167cm', 'hcl': '#b62e29', 'pid': '495674801', 'byr': '1970', 'ecl': 'brn'}\npid false\n{'hgt': '168cm', 'pid': '993244641', 'byr': '1968', 'eyr': '1926', 'hcl': '#b6652a', 'ecl': 'brn', 'iyr': '2023'}\npid false\n{'hgt': '63in', 'hcl': 'z', 'pid': '594070517', 'eyr': '2021', 'ecl': 'oth', 'iyr': '2017', 'byr': '2000'}\npid false\n{'eyr': '2030', 'pid': '272955042', 'cid': '319', 'iyr': '2011', 'ecl': 'amb', 'byr': '1999', 'hcl': '#888785', 'hgt': '158cm'}\npid false\n{'eyr': '2025', 'pid': '814305816', 'byr': '1945', 'ecl': 'brn', 'hgt': '162cm', 'iyr': '2018', 'hcl': '#a97842', 'cid': '229'}\npid false\n{'byr': '1996', 'eyr': '2026', 'pid': '582584802', 'hcl': '#c0946f', 'iyr': '2020', 'ecl': 'grn', 'hgt': '162cm'}\npid false\n{'eyr': '2027', 'hgt': '155cm', 'byr': '1925', 'hcl': '#888785', 'cid': '182', 'iyr': '2014', 'ecl': 'brn', 'pid': '250884352'}\npid false\n{'hgt': '173cm', 'cid': '135', 'iyr': '2017', 'pid': '661330507', 'byr': '1950', 'eyr': '2020', 'ecl': 'gry', 'hcl': '#18171d'}\npid false\n{'pid': '208932950', 'eyr': '2030', 'hgt': '179cm', 'iyr': '2013', 'ecl': 'oth', 'byr': '1981', 'cid': '58', 'hcl': '#6b5442'}\npid false\n{'hcl': '#f183e7', 'iyr': '2014', 'hgt': '159cm', 'pid': '614579850', 'ecl': 'gry', 'eyr': '2029', 'cid': '186', 'byr': '1962'}\npid false\n{'eyr': '2027', 'hcl': '#db3405', 'byr': '1938', 'pid': '194516631', 'cid': '167', 'hgt': '177cm', 'ecl': 'oth'}\npid false\n{'hgt': '68in', 'hcl': '#733820', 'pid': '228644594', 'eyr': '2030', 'ecl': 'gry', 'iyr': '2010', 'cid': '334', 'byr': '1951'}\npid false\n{'iyr': '2017', 'hcl': '#341e13', 'pid': '#6a28c9', 'hgt': '154cm', 'ecl': 'gry', 'byr': '1966', 'eyr': '2023'}\npid false\npid false\n{'pid': '250155574', 'cid': '84', 'hgt': '157cm', 'ecl': 'grn', 'byr': '1937', 'iyr': '2017', 'eyr': '2024', 'hcl': '#b6652a'}\npid false\n{'pid': '831823039', 'eyr': '2028', 'iyr': '2015', 'ecl': 'gry', 'hgt': '192cm', 'cid': '137', 'byr': '1922', 'hcl': '#6b5442'}\npid false\n{'hgt': '193cm', 'byr': '1941', 'eyr': '2024', 'cid': '56', 'hcl': '#623a2f', 'ecl': 'amb', 'pid': '351293754', 'iyr': '2016'}\npid false\n{'byr': '1947', 'iyr': '2012', 'ecl': 'hzl', 'hcl': '#602927', 'eyr': '2028', 'pid': '252010138', 'hgt': '152cm'}\npid false\n{'hcl': '#a97842', 'pid': '801192586', 'ecl': 'hzl', 'iyr': '2018', 'hgt': '193cm', 'byr': '1928', 'cid': '323', 'eyr': '2028'}\npid false\n{'hgt': '151cm', 'pid': '756347561', 'ecl': 'hzl', 'eyr': '2024', 'cid': '161', 'iyr': '2016', 'hcl': '#623a2f', 'byr': '2002'}\npid false\n{'pid': '648012871', 'iyr': '2015', 'ecl': 'blu', 'eyr': '2025', 'hcl': '#623a2f', 'byr': '1973', 'hgt': '177cm'}\npid false\n{'byr': '1999', 'hcl': '#ceb3a1', 'cid': '345', 'eyr': '2025', 'ecl': '#b29a96', 'pid': '093304949', 'iyr': '2017', 'hgt': '93'}\n{'hcl': '#b6652a', 'iyr': '2018', 'ecl': 'grn', 'byr': '1951', 'pid': '077278028', 'eyr': '2024', 'hgt': '62in'}\n{'hgt': '164cm', 'pid': '410770618', 'byr': '1958', 'iyr': '2019', 'eyr': '2030', 'ecl': 'gry', 'hcl': '#fffffd', 'cid': '293'}\npid false\n{'ecl': 'grt', 'eyr': '2039', 'hcl': 'z', 'pid': '188cm', 'byr': '2022', 'iyr': '2027', 'hgt': '76cm'}\npid false\npid false\n{'ecl': 'grn', 'iyr': '2012', 'hgt': '150cm', 'eyr': '2024', 'byr': '1926', 'pid': '954310029', 'cid': '64', 'hcl': '#fffffd'}\npid false\n{'ecl': 'oth', 'eyr': '2027', 'pid': '091152959', 'hgt': '180cm', 'hcl': '#ceb3a1', 'iyr': '2015', 'cid': '350', 'byr': '1924'}\n{'iyr': '2017', 'hcl': '#49a793', 'eyr': '2021', 'cid': '144', 'byr': '1966', 'pid': '717543257', 'hgt': '161cm', 'ecl': 'hzl'}\npid false\n{'eyr': '2025', 'ecl': 'brn', 'hgt': '60in', 'pid': '391973520', 'byr': '1928', 'cid': '77', 'iyr': '2012', 'hcl': '#602927'}\npid false\n{'iyr': '2013', 'hgt': '161cm', 'pid': '784483994', 'byr': '1991', 'hcl': '#cfa07d', 'eyr': '2024', 'ecl': 'grn'}\npid false\n{'ecl': 'hzl', 'iyr': '1967', 'byr': '2009', 'cid': '265', 'hgt': '180in', 'pid': '168cm', 'eyr': '1966'}\npid false\npid false\n{'eyr': '2024', 'iyr': '2019', 'pid': '534453983', 'byr': '2028', 'ecl': 'oth', 'hcl': '#341e13', 'hgt': '193cm'}\npid false\n{'eyr': '2029', 'iyr': '2010', 'hcl': '#623a2f', 'ecl': 'gry', 'hgt': '152cm', 'pid': '572128647', 'byr': '1996'}\npid false\n{'iyr': '2014', 'byr': '1981', 'cid': '176', 'ecl': 'grn', 'hgt': '183cm', 'pid': '974469723', 'eyr': '2027'}\npid false\n{'eyr': '2029', 'pid': '233353682', 'byr': '1968', 'ecl': 'gry', 'hgt': '181cm', 'iyr': '2011', 'hcl': '#efcc98'}\npid false\n{'hgt': '61', 'iyr': '2005', 'cid': '203', 'ecl': 'gmt', 'pid': '157cm', 'hcl': 'z', 'byr': '2013'}\npid false\npid false\n{'iyr': '2020', 'byr': '1923', 'ecl': 'blu', 'eyr': '2026', 'pid': '069770502', 'hgt': '69cm', 'hcl': 'z'}\n{'byr': '1997', 'hgt': '160cm', 'hcl': 'z', 'iyr': '2021', 'eyr': '1920', 'pid': '9374226872'}\npid false\npid false\n{'ecl': 'hzl', 'eyr': '2024', 'pid': '537492791', 'hgt': '186cm', 'byr': '1952', 'hcl': '#cfa07d', 'iyr': '2020'}\npid false\n{'hgt': '73cm', 'byr': '1974', 'ecl': 'xry', 'iyr': '2016', 'cid': '133', 'hcl': 'e741f5', 'pid': '186cm'}\npid false\npid false\n{'pid': '161cm', 'byr': '1950', 'eyr': '2028', 'ecl': 'hzl', 'hcl': '#7d3b0c', 'iyr': '2014', 'hgt': '158cm'}\npid false\npid false\n{'ecl': '#2c491e', 'hcl': 'f8fe13', 'byr': '2022', 'hgt': '137', 'iyr': '1948', 'eyr': '2040', 'pid': '#959a0f'}\npid false\npid false\n{'byr': '1923', 'hgt': '70in', 'pid': '904825661', 'hcl': '#b6652a', 'iyr': '2010', 'eyr': '2020', 'ecl': 'oth'}\npid false\n{'iyr': '2013', 'ecl': 'blu', 'pid': '858020233', 'byr': '1950', 'hgt': '61in'}\npid false\n{'hcl': '#18171d', 'iyr': '2016', 'ecl': 'amb', 'pid': '613754206', 'byr': '1975', 'hgt': '164cm', 'eyr': '2025'}\npid false\n{'byr': '1938', 'iyr': '2017', 'hcl': '#623a2f', 'cid': '191', 'eyr': '2027', 'hgt': '174cm', 'pid': '287108745', 'ecl': 'amb'}\npid false\n{'iyr': '2025', 'hcl': '#623a2f', 'byr': '2019', 'hgt': '170cm', 'cid': '233', 'pid': '55323151', 'ecl': 'amb', 'eyr': '2037'}\npid false\npid false\n{'ecl': 'amb', 'hgt': '177cm', 'hcl': '#b6a3ce', 'eyr': '2025', 'byr': '1967', 'pid': '506927066', 'iyr': '2018', 'cid': '93'}\npid false\n{'byr': '1964', 'hgt': '173cm', 'eyr': '2030', 'cid': '106', 'pid': '587635596', 'iyr': '2012', 'hcl': '#fb5993', 'ecl': 'hzl'}\npid false\n{'ecl': 'lzr', 'pid': '190cm', 'hcl': '44746d', 'eyr': '1955', 'hgt': '66cm', 'iyr': '1990', 'byr': '2003'}\npid false\npid false\n{'ecl': 'brn', 'byr': '1968', 'cid': '216', 'hgt': '181in', 'hcl': '#b6652a', 'iyr': '2016', 'eyr': '2020', 'pid': '0208311541'}\npid false\n{'ecl': 'hzl', 'hgt': '181cm', 'eyr': '1977', 'byr': '2018', 'pid': '527754216', 'hcl': '#c0946f'}\npid false\n{'ecl': 'grn', 'hcl': '#efcc98', 'byr': '1935', 'eyr': '2025', 'iyr': '2018', 'hgt': '65in', 'pid': '396444938', 'cid': '293'}\npid false\n{'hgt': '64in', 'ecl': 'oth', 'hcl': '#18171d', 'pid': '105602506', 'byr': '1973', 'eyr': '2022', 'iyr': '2014'}\npid false\n{'eyr': '2039', 'hgt': '64', 'ecl': '#ab45a8', 'byr': '2009', 'iyr': '2025', 'pid': '182cm', 'hcl': 'd1614a', 'cid': '103'}\npid false\npid false\nTask 1: 240\nTask 2: 0\n"
    }
   ],
   "source": [
    "#Day 4\n",
    "with open('input202004.txt', 'r') as rawinput:\n",
    "    input = data.split('\\n\\n')\n",
    "    input = [line.split() for line in input]\n",
    "    validpp1 = 0\n",
    "    validpp2 = 0\n",
    "    requirements = ['byr', 'iyr', 'eyr', 'hgt', 'hcl', 'ecl', 'pid']\n",
    "    valid = True\n",
    "    for line in input:\n",
    "        ppdict = {}\n",
    "        keys = [p.split(':')[0] for p in line]\n",
    "        values = [p.split(':')[1] for p in line]\n",
    "        for index, key in enumerate(keys):\n",
    "            ppdict[key] = values[index]\n",
    "        print(ppdict)\n",
    "        if 'byr' not in ppdict or not (1920 <= int(ppdict['byr']) <= 2002):\n",
    "            valid = False\n",
    "        if 'iyr' not in ppdict or not (2010 <= int(ppdict['iyr']) <= 2020):\n",
    "            valid = False\n",
    "        if 'eyr' not in ppdict or not (2020 <= int(ppdict['eyr']) <= 2030):\n",
    "            valid = False\n",
    "        if 'hgt' not in ppdict or not ((ppdict['hgt'][-2:] == 'cm' and 150 <= int(ppdict['hgt'][:-2]) <= 193) or (ppdict['hgt'][-2:] ==             'in' and 59 <= int (ppdict['hgt'][:-2]) <= 76)):\n",
    "            valid = False\n",
    "        if 'hcl' not in ppdict or not ppdict['hcl'].startswith('#') or not len(ppdict['hcl']) == 7:\n",
    "            valid = False\n",
    "        if 'hcl' not in ppdict or not (ppdict['hcl'][1:].isalnum()):\n",
    "            valid = False\n",
    "        if 'ecl' not in ppdict or (ppdict['ecl'] not in ['amb', 'blu', 'brn', 'gry', 'grn', 'hzl', 'oth']):\n",
    "            valid = False\n",
    "        if 'pid' not in ppdict or len(ppdict['pid']) != 9:\n",
    "            valid = False\n",
    "            print('pid false')\n",
    "        if 'pid' not in ppdict or not ppdict['pid'].startswith('0'):\n",
    "            valid = False\n",
    "            print('pid false')\n",
    "        if len(requirements) <= len(keys):\n",
    "            validpp1 += 1\n",
    "        if valid == True:\n",
    "            validpp2 += 1\n",
    "    print(\"Task 1:\", validpp1)\n",
    "    print(\"Task 2:\", validpp2)"
   ]
  },
  {
   "cell_type": "code",
   "execution_count": null,
   "metadata": {},
   "outputs": [],
   "source": []
  }
 ]
}