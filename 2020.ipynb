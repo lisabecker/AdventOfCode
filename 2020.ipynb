{
 "metadata": {
  "language_info": {
   "codemirror_mode": {
    "name": "ipython",
    "version": 3
   },
   "file_extension": ".py",
   "mimetype": "text/x-python",
   "name": "python",
   "nbconvert_exporter": "python",
   "pygments_lexer": "ipython3",
   "version": "3.7.6-final"
  },
  "orig_nbformat": 2,
  "kernelspec": {
   "name": "python_defaultSpec_1607155327629",
   "display_name": "Python 3.7.6 64-bit ('base': conda)"
  }
 },
 "nbformat": 4,
 "nbformat_minor": 2,
 "cells": [
  {
   "cell_type": "code",
   "execution_count": 61,
   "metadata": {
    "tags": []
   },
   "outputs": [
    {
     "output_type": "stream",
     "name": "stdout",
     "text": "Task 1: 691771\nTask 2: 232508760\n"
    }
   ],
   "source": [
    "#Day 1\n",
    "from itertools import combinations\n",
    "from functools import reduce\n",
    "input  = open(\"input202001.txt\", \"r\")\n",
    "inputlist = []\n",
    "for row in input:\n",
    "    inputlist.append(int(row))\n",
    "def find_solution(input, dim):\n",
    "    for comb in combinations(input, dim):\n",
    "        if sum(comb) == 2020:\n",
    "            return reduce(lambda x, y: x*y, comb)\n",
    "print(\"Task 1:\", find_solution(inputlist, 2))\n",
    "print(\"Task 2:\", find_solution(inputlist, 3))"
   ]
  },
  {
   "cell_type": "code",
   "execution_count": 62,
   "metadata": {
    "tags": []
   },
   "outputs": [
    {
     "output_type": "stream",
     "name": "stdout",
     "text": "Task 1: 560\nTask 2: 303\n"
    }
   ],
   "source": [
    "#Day 2\n",
    "with open(\"input202002.txt\", \"r\") as rawinput:\n",
    "    validpwds1 = 0\n",
    "    validpwds2 = 0\n",
    "    input = list(rawinput)\n",
    "    for line in input:\n",
    "        match = 0\n",
    "        password = line.split()\n",
    "        minimum, maximum = [int(x) for x in password[0].split(\"-\")]\n",
    "        character = password[1].split(\":\")[0]\n",
    "        pwd = password[2]\n",
    "        # Task 1:\n",
    "        if minimum <= pwd.count(character) <= maximum:\n",
    "            validpwds1 += 1\n",
    "        # Task 2:\n",
    "        if (pwd[minimum-1] == character) ^ (pwd[maximum-1] == character):\n",
    "            match += 1\n",
    "        if match == 1:\n",
    "            validpwds2 += 1\n",
    "print(\"Task 1:\", validpwds1)\n",
    "print(\"Task 2:\", validpwds2)"
   ]
  },
  {
   "cell_type": "code",
   "execution_count": 63,
   "metadata": {
    "tags": []
   },
   "outputs": [
    {
     "output_type": "stream",
     "name": "stdout",
     "text": "Task 1: 254\nTasl 2: 1666768320\n"
    }
   ],
   "source": [
    "#Day 3\n",
    "with open('input202003.txt', 'r') as rawinput:\n",
    "    Forest = []\n",
    "    for line in rawinput:\n",
    "        Forest.append(line.strip())\n",
    "    trees2 = 1\n",
    "    slopes = [(1,1),(3,1), (5,1), (7,1), (1,2)]\n",
    "    for slope in slopes:\n",
    "        row = 0\n",
    "        column = 0\n",
    "        trees1 = 0\n",
    "        while row < len(Forest):\n",
    "            column += slope[0]\n",
    "            row += slope[1]\n",
    "            if row<(len(Forest)) and Forest[row][column%len(Forest[row])] == '#':\n",
    "                trees1 += 1\n",
    "        trees2 *= trees1\n",
    "        if slope[0] == 3 and slope[1]:\n",
    "            print(\"Task 1:\", trees1)\n",
    "    print(\"Tasl 2:\", trees2)"
   ]
  },
  {
   "cell_type": "code",
   "execution_count": 81,
   "metadata": {
    "tags": []
   },
   "outputs": [
    {
     "output_type": "stream",
     "name": "stdout",
     "text": "Task 1: 240\nTask 2: 13\n"
    }
   ],
   "source": [
    "#Day 4\n",
    "with open('input202004.txt', 'r') as rawinput:\n",
    "    input = data.split('\\n\\n')\n",
    "    input = [line.split() for line in input]\n",
    "    validpp1 = 0\n",
    "    validpp2 = 0\n",
    "    requirements = ['byr', 'iyr', 'eyr', 'hgt', 'hcl', 'ecl', 'pid']\n",
    "    for line in input:\n",
    "        valid = True\n",
    "        ppdict = {}\n",
    "        keys = [p.split(':')[0] for p in line]\n",
    "        values = [p.split(':')[1] for p in line]\n",
    "        for index, key in enumerate(keys):\n",
    "            ppdict[key] = values[index]\n",
    "        if 'byr' not in ppdict or not (1920 <= int(ppdict['byr']) <= 2002):\n",
    "            valid = False\n",
    "        if 'iyr' not in ppdict or not (2010 <= int(ppdict['iyr']) <= 2020):\n",
    "            valid = False\n",
    "        if 'eyr' not in ppdict or not (2020 <= int(ppdict['eyr']) <= 2030):\n",
    "            valid = False\n",
    "        if 'hgt' not in ppdict or not ((ppdict['hgt'][-2:] == 'cm' and 150 <= int(ppdict['hgt'][:-2]) <= 193) or (ppdict['hgt'][-2:] ==             'in' and 59 <= int (ppdict['hgt'][:-2]) <= 76)):\n",
    "            valid = False\n",
    "        if 'hcl' not in ppdict or not ppdict['hcl'].startswith('#') or not len(ppdict['hcl']) == 7:\n",
    "            valid = False\n",
    "        if 'hcl' not in ppdict or not (ppdict['hcl'][1:].isalnum()):\n",
    "            valid = False\n",
    "        if 'ecl' not in ppdict or (ppdict['ecl'] not in ['amb', 'blu', 'brn', 'gry', 'grn', 'hzl', 'oth']):\n",
    "            valid = False\n",
    "        if 'pid' not in ppdict or len(ppdict['pid']) != 9 or not ppdict['pid'].startswith('0'):\n",
    "            valid = False\n",
    "        if len(requirements) <= len(keys):\n",
    "            validpp1 += 1\n",
    "        if valid == True:\n",
    "            validpp2 += 1\n",
    "    print(\"Task 1:\", validpp1)\n",
    "    print(\"Task 2:\", validpp2)"
   ]
  },
  {
   "cell_type": "code",
   "execution_count": 38,
   "metadata": {
    "tags": []
   },
   "outputs": [
    {
     "output_type": "stream",
     "name": "stdout",
     "text": "Task 1: 892\nTask 2: 625\n"
    }
   ],
   "source": [
    "#Day 5\n",
    "with open('input202005.txt', 'r') as f:\n",
    "    seatIDs = []\n",
    "    p2 = None\n",
    "    for seat in f:\n",
    "        seatIDs.append(int(seat.replace(\"B\",\"1\").replace(\"F\",\"0\").replace(\"R\",\"1\").replace(\"L\",\"0\"),2))\n",
    "    print('Task 1:', max(seatIDs))\n",
    "    sortedSeats = sorted(seatIDs)\n",
    "    for seat in sortedSeats:\n",
    "        if seat+1 not in seatIDs and seat is not sortedSeats[-1]:\n",
    "            p2 = seat+1\n",
    "            print('Task 2:', p2)"
   ]
  }
 ]
}