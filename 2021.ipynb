{
 "cells": [
  {
   "cell_type": "code",
   "execution_count": 19,
   "id": "e1ad2e51-9e68-4cc1-83f1-04709ab58751",
   "metadata": {},
   "outputs": [
    {
     "name": "stdout",
     "output_type": "stream",
     "text": [
      "Day1\n",
      "Part 1: 1288\n",
      "Part 2: 1311\n"
     ]
    }
   ],
   "source": [
    "with open(\"input1.txt\",\"r\") as file:\n",
    "    lines = file.readlines()\n",
    "    lines = [int(x) for x in lines]\n",
    "    increased, decreased = 0, 0\n",
    "    for index, line in enumerate(lines):\n",
    "        if index == 0:\n",
    "            first = line\n",
    "        else:\n",
    "            if int(line) > lines[index-1]:\n",
    "                increased += 1\n",
    "            else:\n",
    "                decreased += 1\n",
    "    increased2 = 0\n",
    "    for index in range(len(lines)-3):\n",
    "        if (lines[index]+lines[index+1]+lines[index+2]) < (lines[index+1]+lines[index+2]+lines[index+3]):\n",
    "            increased2 += 1\n",
    "            \n",
    "print(f\"Day1\\nPart 1: {increased}\\nPart 2: {increased2}\")"
   ]
  },
  {
   "cell_type": "code",
   "execution_count": 20,
   "id": "6d974f5a-2b4a-450c-9249-80aaa1f261cb",
   "metadata": {},
   "outputs": [
    {
     "name": "stdout",
     "output_type": "stream",
     "text": [
      "Day2\n",
      "Part 1: 2150351\n",
      "Part 2: 1842742223\n"
     ]
    }
   ],
   "source": [
    "with open(\"input2.txt\",'r') as file:\n",
    "    lines = file.readlines()\n",
    "    horizontal = 0\n",
    "    depth1 = 0\n",
    "    depth2 = 0\n",
    "    aim = 0\n",
    "    for index in range(len(lines)):\n",
    "        if lines[index].startswith(\"forward\"):\n",
    "            horizontal += int(lines[index].split(\" \")[1])\n",
    "            depth2 += (int(lines[index].split(\" \")[1]) * aim)\n",
    "        elif lines[index].startswith(\"up\"):\n",
    "            depth1 -= int(lines[index].split(\" \")[1])\n",
    "            aim -= int(lines[index].split(\" \")[1])\n",
    "        elif lines[index].startswith(\"down\"):\n",
    "            depth1 += int(lines[index].split(\" \")[1])\n",
    "            aim += int(lines[index].split(\" \")[1])\n",
    "    \n",
    "    print(f\"Day2\\nPart 1: {horizontal * depth1}\\nPart 2: {horizontal * depth2}\")"
   ]
  },
  {
   "cell_type": "code",
   "execution_count": null,
   "id": "13c21486-f4c5-46a1-b1e9-226c9ccf528e",
   "metadata": {},
   "outputs": [],
   "source": []
  }
 ],
 "metadata": {
  "kernelspec": {
   "display_name": "Python 3",
   "language": "python",
   "name": "python3"
  },
  "language_info": {
   "codemirror_mode": {
    "name": "ipython",
    "version": 3
   },
   "file_extension": ".py",
   "mimetype": "text/x-python",
   "name": "python",
   "nbconvert_exporter": "python",
   "pygments_lexer": "ipython3",
   "version": "3.8.8"
  }
 },
 "nbformat": 4,
 "nbformat_minor": 5
}
